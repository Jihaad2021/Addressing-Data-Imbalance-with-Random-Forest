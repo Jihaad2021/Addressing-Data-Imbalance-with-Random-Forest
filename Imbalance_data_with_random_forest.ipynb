{
  "cells": [
    {
      "cell_type": "markdown",
      "metadata": {
        "id": "q1yIrvyJmRAh"
      },
      "source": [
        "# Final Project: \n",
        "**Topik**: Penanganan Data Tidak Seimbang Menggunakan SMOTEENN pada Klasifikasi Diabetes Mellitus dengan Algoritma Random Forest\n"
      ]
    },
    {
      "cell_type": "markdown",
      "metadata": {
        "id": "AzQNtNk-mruo"
      },
      "source": [
        "# Prequisite"
      ]
    },
    {
      "cell_type": "code",
      "execution_count": null,
      "metadata": {
        "colab": {
          "base_uri": "https://localhost:8080/"
        },
        "id": "BsnTL4e4l0km",
        "outputId": "3873144b-170e-44bd-ad3c-25574b9a0217"
      },
      "outputs": [
        {
          "name": "stdout",
          "output_type": "stream",
          "text": [
            "Requirement already satisfied: kaggle in /usr/local/lib/python3.10/dist-packages (1.6.14)\n",
            "Requirement already satisfied: six>=1.10 in /usr/local/lib/python3.10/dist-packages (from kaggle) (1.16.0)\n",
            "Requirement already satisfied: certifi>=2023.7.22 in /usr/local/lib/python3.10/dist-packages (from kaggle) (2024.6.2)\n",
            "Requirement already satisfied: python-dateutil in /usr/local/lib/python3.10/dist-packages (from kaggle) (2.8.2)\n",
            "Requirement already satisfied: requests in /usr/local/lib/python3.10/dist-packages (from kaggle) (2.31.0)\n",
            "Requirement already satisfied: tqdm in /usr/local/lib/python3.10/dist-packages (from kaggle) (4.66.4)\n",
            "Requirement already satisfied: python-slugify in /usr/local/lib/python3.10/dist-packages (from kaggle) (8.0.4)\n",
            "Requirement already satisfied: urllib3 in /usr/local/lib/python3.10/dist-packages (from kaggle) (2.0.7)\n",
            "Requirement already satisfied: bleach in /usr/local/lib/python3.10/dist-packages (from kaggle) (6.1.0)\n",
            "Requirement already satisfied: webencodings in /usr/local/lib/python3.10/dist-packages (from bleach->kaggle) (0.5.1)\n",
            "Requirement already satisfied: text-unidecode>=1.3 in /usr/local/lib/python3.10/dist-packages (from python-slugify->kaggle) (1.3)\n",
            "Requirement already satisfied: charset-normalizer<4,>=2 in /usr/local/lib/python3.10/dist-packages (from requests->kaggle) (3.3.2)\n",
            "Requirement already satisfied: idna<4,>=2.5 in /usr/local/lib/python3.10/dist-packages (from requests->kaggle) (3.7)\n"
          ]
        }
      ],
      "source": [
        "!pip install kaggle"
      ]
    },
    {
      "cell_type": "code",
      "execution_count": null,
      "metadata": {
        "colab": {
          "base_uri": "https://localhost:8080/",
          "height": 197
        },
        "id": "QlwI1vHYnJnR",
        "outputId": "be1d0768-8129-4ce6-8ae5-0f73d53e794e"
      },
      "outputs": [
        {
          "data": {
            "text/html": [
              "\n",
              "     <input type=\"file\" id=\"files-766765c6-8da7-4a0d-82d6-a07f3eddc255\" name=\"files[]\" multiple disabled\n",
              "        style=\"border:none\" />\n",
              "     <output id=\"result-766765c6-8da7-4a0d-82d6-a07f3eddc255\">\n",
              "      Upload widget is only available when the cell has been executed in the\n",
              "      current browser session. Please rerun this cell to enable.\n",
              "      </output>\n",
              "      <script>// Copyright 2017 Google LLC\n",
              "//\n",
              "// Licensed under the Apache License, Version 2.0 (the \"License\");\n",
              "// you may not use this file except in compliance with the License.\n",
              "// You may obtain a copy of the License at\n",
              "//\n",
              "//      http://www.apache.org/licenses/LICENSE-2.0\n",
              "//\n",
              "// Unless required by applicable law or agreed to in writing, software\n",
              "// distributed under the License is distributed on an \"AS IS\" BASIS,\n",
              "// WITHOUT WARRANTIES OR CONDITIONS OF ANY KIND, either express or implied.\n",
              "// See the License for the specific language governing permissions and\n",
              "// limitations under the License.\n",
              "\n",
              "/**\n",
              " * @fileoverview Helpers for google.colab Python module.\n",
              " */\n",
              "(function(scope) {\n",
              "function span(text, styleAttributes = {}) {\n",
              "  const element = document.createElement('span');\n",
              "  element.textContent = text;\n",
              "  for (const key of Object.keys(styleAttributes)) {\n",
              "    element.style[key] = styleAttributes[key];\n",
              "  }\n",
              "  return element;\n",
              "}\n",
              "\n",
              "// Max number of bytes which will be uploaded at a time.\n",
              "const MAX_PAYLOAD_SIZE = 100 * 1024;\n",
              "\n",
              "function _uploadFiles(inputId, outputId) {\n",
              "  const steps = uploadFilesStep(inputId, outputId);\n",
              "  const outputElement = document.getElementById(outputId);\n",
              "  // Cache steps on the outputElement to make it available for the next call\n",
              "  // to uploadFilesContinue from Python.\n",
              "  outputElement.steps = steps;\n",
              "\n",
              "  return _uploadFilesContinue(outputId);\n",
              "}\n",
              "\n",
              "// This is roughly an async generator (not supported in the browser yet),\n",
              "// where there are multiple asynchronous steps and the Python side is going\n",
              "// to poll for completion of each step.\n",
              "// This uses a Promise to block the python side on completion of each step,\n",
              "// then passes the result of the previous step as the input to the next step.\n",
              "function _uploadFilesContinue(outputId) {\n",
              "  const outputElement = document.getElementById(outputId);\n",
              "  const steps = outputElement.steps;\n",
              "\n",
              "  const next = steps.next(outputElement.lastPromiseValue);\n",
              "  return Promise.resolve(next.value.promise).then((value) => {\n",
              "    // Cache the last promise value to make it available to the next\n",
              "    // step of the generator.\n",
              "    outputElement.lastPromiseValue = value;\n",
              "    return next.value.response;\n",
              "  });\n",
              "}\n",
              "\n",
              "/**\n",
              " * Generator function which is called between each async step of the upload\n",
              " * process.\n",
              " * @param {string} inputId Element ID of the input file picker element.\n",
              " * @param {string} outputId Element ID of the output display.\n",
              " * @return {!Iterable<!Object>} Iterable of next steps.\n",
              " */\n",
              "function* uploadFilesStep(inputId, outputId) {\n",
              "  const inputElement = document.getElementById(inputId);\n",
              "  inputElement.disabled = false;\n",
              "\n",
              "  const outputElement = document.getElementById(outputId);\n",
              "  outputElement.innerHTML = '';\n",
              "\n",
              "  const pickedPromise = new Promise((resolve) => {\n",
              "    inputElement.addEventListener('change', (e) => {\n",
              "      resolve(e.target.files);\n",
              "    });\n",
              "  });\n",
              "\n",
              "  const cancel = document.createElement('button');\n",
              "  inputElement.parentElement.appendChild(cancel);\n",
              "  cancel.textContent = 'Cancel upload';\n",
              "  const cancelPromise = new Promise((resolve) => {\n",
              "    cancel.onclick = () => {\n",
              "      resolve(null);\n",
              "    };\n",
              "  });\n",
              "\n",
              "  // Wait for the user to pick the files.\n",
              "  const files = yield {\n",
              "    promise: Promise.race([pickedPromise, cancelPromise]),\n",
              "    response: {\n",
              "      action: 'starting',\n",
              "    }\n",
              "  };\n",
              "\n",
              "  cancel.remove();\n",
              "\n",
              "  // Disable the input element since further picks are not allowed.\n",
              "  inputElement.disabled = true;\n",
              "\n",
              "  if (!files) {\n",
              "    return {\n",
              "      response: {\n",
              "        action: 'complete',\n",
              "      }\n",
              "    };\n",
              "  }\n",
              "\n",
              "  for (const file of files) {\n",
              "    const li = document.createElement('li');\n",
              "    li.append(span(file.name, {fontWeight: 'bold'}));\n",
              "    li.append(span(\n",
              "        `(${file.type || 'n/a'}) - ${file.size} bytes, ` +\n",
              "        `last modified: ${\n",
              "            file.lastModifiedDate ? file.lastModifiedDate.toLocaleDateString() :\n",
              "                                    'n/a'} - `));\n",
              "    const percent = span('0% done');\n",
              "    li.appendChild(percent);\n",
              "\n",
              "    outputElement.appendChild(li);\n",
              "\n",
              "    const fileDataPromise = new Promise((resolve) => {\n",
              "      const reader = new FileReader();\n",
              "      reader.onload = (e) => {\n",
              "        resolve(e.target.result);\n",
              "      };\n",
              "      reader.readAsArrayBuffer(file);\n",
              "    });\n",
              "    // Wait for the data to be ready.\n",
              "    let fileData = yield {\n",
              "      promise: fileDataPromise,\n",
              "      response: {\n",
              "        action: 'continue',\n",
              "      }\n",
              "    };\n",
              "\n",
              "    // Use a chunked sending to avoid message size limits. See b/62115660.\n",
              "    let position = 0;\n",
              "    do {\n",
              "      const length = Math.min(fileData.byteLength - position, MAX_PAYLOAD_SIZE);\n",
              "      const chunk = new Uint8Array(fileData, position, length);\n",
              "      position += length;\n",
              "\n",
              "      const base64 = btoa(String.fromCharCode.apply(null, chunk));\n",
              "      yield {\n",
              "        response: {\n",
              "          action: 'append',\n",
              "          file: file.name,\n",
              "          data: base64,\n",
              "        },\n",
              "      };\n",
              "\n",
              "      let percentDone = fileData.byteLength === 0 ?\n",
              "          100 :\n",
              "          Math.round((position / fileData.byteLength) * 100);\n",
              "      percent.textContent = `${percentDone}% done`;\n",
              "\n",
              "    } while (position < fileData.byteLength);\n",
              "  }\n",
              "\n",
              "  // All done.\n",
              "  yield {\n",
              "    response: {\n",
              "      action: 'complete',\n",
              "    }\n",
              "  };\n",
              "}\n",
              "\n",
              "scope.google = scope.google || {};\n",
              "scope.google.colab = scope.google.colab || {};\n",
              "scope.google.colab._files = {\n",
              "  _uploadFiles,\n",
              "  _uploadFilesContinue,\n",
              "};\n",
              "})(self);\n",
              "</script> "
            ],
            "text/plain": [
              "<IPython.core.display.HTML object>"
            ]
          },
          "metadata": {},
          "output_type": "display_data"
        },
        {
          "name": "stdout",
          "output_type": "stream",
          "text": [
            "Saving kaggle.json to kaggle.json\n",
            "kaggle.json berhasil diunggah dan disimpan di /root/.kaggle/.\n",
            "Dataset URL: https://www.kaggle.com/datasets/julnazz/diabetes-health-indicators-dataset\n",
            "License(s): CC0-1.0\n",
            "Downloading diabetes-health-indicators-dataset.zip to /content\n",
            "  0% 0.00/5.30M [00:00<?, ?B/s]\n",
            "100% 5.30M/5.30M [00:00<00:00, 68.2MB/s]\n"
          ]
        }
      ],
      "source": [
        "from google.colab import files\n",
        "import os\n",
        "from shutil import copyfile\n",
        "import zipfile\n",
        "import warnings\n",
        "\n",
        "# Upload kaggle.json\n",
        "uploaded = files.upload()\n",
        "\n",
        "# Check if the .kaggle directory exists in the root\n",
        "kaggle_dir = '/root/.kaggle'\n",
        "if not os.path.exists(kaggle_dir):\n",
        "    os.makedirs(kaggle_dir)\n",
        "\n",
        "# Move the uploaded kaggle.json to the .kaggle directory\n",
        "for filename in uploaded.keys():\n",
        "    if filename == 'kaggle.json':\n",
        "        destination = '/root/.kaggle/kaggle.json'\n",
        "        copyfile(filename, destination)\n",
        "        os.chmod(destination, 600)\n",
        "        print('kaggle.json berhasil diunggah dan disimpan di /root/.kaggle/.')\n",
        "\n",
        "# Download dataset\n",
        "# !kaggle datasets download -d alexteboul/diabetes-health-indicators-dataset (2015)\n",
        "!kaggle datasets download -d julnazz/diabetes-health-indicators-dataset # (2021)\n",
        "\n",
        "zip_file_path = '/content/diabetes-health-indicators-dataset.zip'\n",
        "extracted_folder_path = '/content/diabetes-health-indicators-dataset'\n",
        "os.makedirs(extracted_folder_path, exist_ok=True)\n",
        "\n",
        "# Extract zip file\n",
        "with zipfile.ZipFile(zip_file_path, 'r') as zip_ref:\n",
        "    zip_ref.extractall(extracted_folder_path)\n",
        "\n",
        "warnings.filterwarnings(\"ignore\")"
      ]
    },
    {
      "cell_type": "code",
      "execution_count": null,
      "metadata": {
        "id": "oiEdrr7VobIk"
      },
      "outputs": [],
      "source": [
        "SEED = 42"
      ]
    },
    {
      "cell_type": "markdown",
      "metadata": {
        "id": "J-ztNWlZnzJH"
      },
      "source": [
        "# Load Library & Data"
      ]
    },
    {
      "cell_type": "code",
      "execution_count": null,
      "metadata": {
        "id": "oF_ZOesynt8z"
      },
      "outputs": [],
      "source": [
        "import pandas as pd\n",
        "import numpy as np\n",
        "import matplotlib.pyplot as plt\n",
        "import seaborn as sns\n",
        "\n",
        "from sklearn.model_selection import train_test_split"
      ]
    },
    {
      "cell_type": "code",
      "execution_count": null,
      "metadata": {
        "colab": {
          "base_uri": "https://localhost:8080/",
          "height": 256
        },
        "id": "VqnJ-gqknt6N",
        "outputId": "7a228950-e50b-4b9a-ab50-d89a405d8a72"
      },
      "outputs": [
        {
          "data": {
            "application/vnd.google.colaboratory.intrinsic+json": {
              "type": "dataframe",
              "variable_name": "df"
            },
            "text/html": [
              "\n",
              "  <div id=\"df-15b27834-bc3c-4227-8b58-b30f7e5119b7\" class=\"colab-df-container\">\n",
              "    <div>\n",
              "<style scoped>\n",
              "    .dataframe tbody tr th:only-of-type {\n",
              "        vertical-align: middle;\n",
              "    }\n",
              "\n",
              "    .dataframe tbody tr th {\n",
              "        vertical-align: top;\n",
              "    }\n",
              "\n",
              "    .dataframe thead th {\n",
              "        text-align: right;\n",
              "    }\n",
              "</style>\n",
              "<table border=\"1\" class=\"dataframe\">\n",
              "  <thead>\n",
              "    <tr style=\"text-align: right;\">\n",
              "      <th></th>\n",
              "      <th>Diabetes_binary</th>\n",
              "      <th>HighBP</th>\n",
              "      <th>HighChol</th>\n",
              "      <th>CholCheck</th>\n",
              "      <th>BMI</th>\n",
              "      <th>Smoker</th>\n",
              "      <th>Stroke</th>\n",
              "      <th>HeartDiseaseorAttack</th>\n",
              "      <th>PhysActivity</th>\n",
              "      <th>Fruits</th>\n",
              "      <th>...</th>\n",
              "      <th>AnyHealthcare</th>\n",
              "      <th>NoDocbcCost</th>\n",
              "      <th>GenHlth</th>\n",
              "      <th>MentHlth</th>\n",
              "      <th>PhysHlth</th>\n",
              "      <th>DiffWalk</th>\n",
              "      <th>Sex</th>\n",
              "      <th>Age</th>\n",
              "      <th>Education</th>\n",
              "      <th>Income</th>\n",
              "    </tr>\n",
              "  </thead>\n",
              "  <tbody>\n",
              "    <tr>\n",
              "      <th>0</th>\n",
              "      <td>0.0</td>\n",
              "      <td>0</td>\n",
              "      <td>1.0</td>\n",
              "      <td>1</td>\n",
              "      <td>15.0</td>\n",
              "      <td>1.0</td>\n",
              "      <td>0.0</td>\n",
              "      <td>0.0</td>\n",
              "      <td>0</td>\n",
              "      <td>1</td>\n",
              "      <td>...</td>\n",
              "      <td>1</td>\n",
              "      <td>0.0</td>\n",
              "      <td>5.0</td>\n",
              "      <td>10.0</td>\n",
              "      <td>20.0</td>\n",
              "      <td>0.0</td>\n",
              "      <td>0</td>\n",
              "      <td>11</td>\n",
              "      <td>4.0</td>\n",
              "      <td>5.0</td>\n",
              "    </tr>\n",
              "    <tr>\n",
              "      <th>1</th>\n",
              "      <td>1.0</td>\n",
              "      <td>1</td>\n",
              "      <td>0.0</td>\n",
              "      <td>1</td>\n",
              "      <td>28.0</td>\n",
              "      <td>0.0</td>\n",
              "      <td>0.0</td>\n",
              "      <td>1.0</td>\n",
              "      <td>0</td>\n",
              "      <td>1</td>\n",
              "      <td>...</td>\n",
              "      <td>1</td>\n",
              "      <td>0.0</td>\n",
              "      <td>2.0</td>\n",
              "      <td>0.0</td>\n",
              "      <td>0.0</td>\n",
              "      <td>0.0</td>\n",
              "      <td>0</td>\n",
              "      <td>11</td>\n",
              "      <td>4.0</td>\n",
              "      <td>3.0</td>\n",
              "    </tr>\n",
              "    <tr>\n",
              "      <th>2</th>\n",
              "      <td>1.0</td>\n",
              "      <td>1</td>\n",
              "      <td>1.0</td>\n",
              "      <td>1</td>\n",
              "      <td>33.0</td>\n",
              "      <td>0.0</td>\n",
              "      <td>0.0</td>\n",
              "      <td>0.0</td>\n",
              "      <td>1</td>\n",
              "      <td>1</td>\n",
              "      <td>...</td>\n",
              "      <td>1</td>\n",
              "      <td>0.0</td>\n",
              "      <td>2.0</td>\n",
              "      <td>10.0</td>\n",
              "      <td>0.0</td>\n",
              "      <td>0.0</td>\n",
              "      <td>0</td>\n",
              "      <td>9</td>\n",
              "      <td>4.0</td>\n",
              "      <td>7.0</td>\n",
              "    </tr>\n",
              "    <tr>\n",
              "      <th>3</th>\n",
              "      <td>1.0</td>\n",
              "      <td>0</td>\n",
              "      <td>1.0</td>\n",
              "      <td>1</td>\n",
              "      <td>29.0</td>\n",
              "      <td>0.0</td>\n",
              "      <td>1.0</td>\n",
              "      <td>1.0</td>\n",
              "      <td>1</td>\n",
              "      <td>1</td>\n",
              "      <td>...</td>\n",
              "      <td>1</td>\n",
              "      <td>0.0</td>\n",
              "      <td>5.0</td>\n",
              "      <td>0.0</td>\n",
              "      <td>30.0</td>\n",
              "      <td>1.0</td>\n",
              "      <td>1</td>\n",
              "      <td>12</td>\n",
              "      <td>3.0</td>\n",
              "      <td>4.0</td>\n",
              "    </tr>\n",
              "    <tr>\n",
              "      <th>4</th>\n",
              "      <td>0.0</td>\n",
              "      <td>0</td>\n",
              "      <td>0.0</td>\n",
              "      <td>1</td>\n",
              "      <td>24.0</td>\n",
              "      <td>1.0</td>\n",
              "      <td>0.0</td>\n",
              "      <td>0.0</td>\n",
              "      <td>0</td>\n",
              "      <td>0</td>\n",
              "      <td>...</td>\n",
              "      <td>1</td>\n",
              "      <td>0.0</td>\n",
              "      <td>3.0</td>\n",
              "      <td>0.0</td>\n",
              "      <td>0.0</td>\n",
              "      <td>1.0</td>\n",
              "      <td>1</td>\n",
              "      <td>13</td>\n",
              "      <td>5.0</td>\n",
              "      <td>6.0</td>\n",
              "    </tr>\n",
              "  </tbody>\n",
              "</table>\n",
              "<p>5 rows × 22 columns</p>\n",
              "</div>\n",
              "    <div class=\"colab-df-buttons\">\n",
              "\n",
              "  <div class=\"colab-df-container\">\n",
              "    <button class=\"colab-df-convert\" onclick=\"convertToInteractive('df-15b27834-bc3c-4227-8b58-b30f7e5119b7')\"\n",
              "            title=\"Convert this dataframe to an interactive table.\"\n",
              "            style=\"display:none;\">\n",
              "\n",
              "  <svg xmlns=\"http://www.w3.org/2000/svg\" height=\"24px\" viewBox=\"0 -960 960 960\">\n",
              "    <path d=\"M120-120v-720h720v720H120Zm60-500h600v-160H180v160Zm220 220h160v-160H400v160Zm0 220h160v-160H400v160ZM180-400h160v-160H180v160Zm440 0h160v-160H620v160ZM180-180h160v-160H180v160Zm440 0h160v-160H620v160Z\"/>\n",
              "  </svg>\n",
              "    </button>\n",
              "\n",
              "  <style>\n",
              "    .colab-df-container {\n",
              "      display:flex;\n",
              "      gap: 12px;\n",
              "    }\n",
              "\n",
              "    .colab-df-convert {\n",
              "      background-color: #E8F0FE;\n",
              "      border: none;\n",
              "      border-radius: 50%;\n",
              "      cursor: pointer;\n",
              "      display: none;\n",
              "      fill: #1967D2;\n",
              "      height: 32px;\n",
              "      padding: 0 0 0 0;\n",
              "      width: 32px;\n",
              "    }\n",
              "\n",
              "    .colab-df-convert:hover {\n",
              "      background-color: #E2EBFA;\n",
              "      box-shadow: 0px 1px 2px rgba(60, 64, 67, 0.3), 0px 1px 3px 1px rgba(60, 64, 67, 0.15);\n",
              "      fill: #174EA6;\n",
              "    }\n",
              "\n",
              "    .colab-df-buttons div {\n",
              "      margin-bottom: 4px;\n",
              "    }\n",
              "\n",
              "    [theme=dark] .colab-df-convert {\n",
              "      background-color: #3B4455;\n",
              "      fill: #D2E3FC;\n",
              "    }\n",
              "\n",
              "    [theme=dark] .colab-df-convert:hover {\n",
              "      background-color: #434B5C;\n",
              "      box-shadow: 0px 1px 3px 1px rgba(0, 0, 0, 0.15);\n",
              "      filter: drop-shadow(0px 1px 2px rgba(0, 0, 0, 0.3));\n",
              "      fill: #FFFFFF;\n",
              "    }\n",
              "  </style>\n",
              "\n",
              "    <script>\n",
              "      const buttonEl =\n",
              "        document.querySelector('#df-15b27834-bc3c-4227-8b58-b30f7e5119b7 button.colab-df-convert');\n",
              "      buttonEl.style.display =\n",
              "        google.colab.kernel.accessAllowed ? 'block' : 'none';\n",
              "\n",
              "      async function convertToInteractive(key) {\n",
              "        const element = document.querySelector('#df-15b27834-bc3c-4227-8b58-b30f7e5119b7');\n",
              "        const dataTable =\n",
              "          await google.colab.kernel.invokeFunction('convertToInteractive',\n",
              "                                                    [key], {});\n",
              "        if (!dataTable) return;\n",
              "\n",
              "        const docLinkHtml = 'Like what you see? Visit the ' +\n",
              "          '<a target=\"_blank\" href=https://colab.research.google.com/notebooks/data_table.ipynb>data table notebook</a>'\n",
              "          + ' to learn more about interactive tables.';\n",
              "        element.innerHTML = '';\n",
              "        dataTable['output_type'] = 'display_data';\n",
              "        await google.colab.output.renderOutput(dataTable, element);\n",
              "        const docLink = document.createElement('div');\n",
              "        docLink.innerHTML = docLinkHtml;\n",
              "        element.appendChild(docLink);\n",
              "      }\n",
              "    </script>\n",
              "  </div>\n",
              "\n",
              "\n",
              "<div id=\"df-955fddc8-62b3-4fc6-a473-8a5333149cbb\">\n",
              "  <button class=\"colab-df-quickchart\" onclick=\"quickchart('df-955fddc8-62b3-4fc6-a473-8a5333149cbb')\"\n",
              "            title=\"Suggest charts\"\n",
              "            style=\"display:none;\">\n",
              "\n",
              "<svg xmlns=\"http://www.w3.org/2000/svg\" height=\"24px\"viewBox=\"0 0 24 24\"\n",
              "     width=\"24px\">\n",
              "    <g>\n",
              "        <path d=\"M19 3H5c-1.1 0-2 .9-2 2v14c0 1.1.9 2 2 2h14c1.1 0 2-.9 2-2V5c0-1.1-.9-2-2-2zM9 17H7v-7h2v7zm4 0h-2V7h2v10zm4 0h-2v-4h2v4z\"/>\n",
              "    </g>\n",
              "</svg>\n",
              "  </button>\n",
              "\n",
              "<style>\n",
              "  .colab-df-quickchart {\n",
              "      --bg-color: #E8F0FE;\n",
              "      --fill-color: #1967D2;\n",
              "      --hover-bg-color: #E2EBFA;\n",
              "      --hover-fill-color: #174EA6;\n",
              "      --disabled-fill-color: #AAA;\n",
              "      --disabled-bg-color: #DDD;\n",
              "  }\n",
              "\n",
              "  [theme=dark] .colab-df-quickchart {\n",
              "      --bg-color: #3B4455;\n",
              "      --fill-color: #D2E3FC;\n",
              "      --hover-bg-color: #434B5C;\n",
              "      --hover-fill-color: #FFFFFF;\n",
              "      --disabled-bg-color: #3B4455;\n",
              "      --disabled-fill-color: #666;\n",
              "  }\n",
              "\n",
              "  .colab-df-quickchart {\n",
              "    background-color: var(--bg-color);\n",
              "    border: none;\n",
              "    border-radius: 50%;\n",
              "    cursor: pointer;\n",
              "    display: none;\n",
              "    fill: var(--fill-color);\n",
              "    height: 32px;\n",
              "    padding: 0;\n",
              "    width: 32px;\n",
              "  }\n",
              "\n",
              "  .colab-df-quickchart:hover {\n",
              "    background-color: var(--hover-bg-color);\n",
              "    box-shadow: 0 1px 2px rgba(60, 64, 67, 0.3), 0 1px 3px 1px rgba(60, 64, 67, 0.15);\n",
              "    fill: var(--button-hover-fill-color);\n",
              "  }\n",
              "\n",
              "  .colab-df-quickchart-complete:disabled,\n",
              "  .colab-df-quickchart-complete:disabled:hover {\n",
              "    background-color: var(--disabled-bg-color);\n",
              "    fill: var(--disabled-fill-color);\n",
              "    box-shadow: none;\n",
              "  }\n",
              "\n",
              "  .colab-df-spinner {\n",
              "    border: 2px solid var(--fill-color);\n",
              "    border-color: transparent;\n",
              "    border-bottom-color: var(--fill-color);\n",
              "    animation:\n",
              "      spin 1s steps(1) infinite;\n",
              "  }\n",
              "\n",
              "  @keyframes spin {\n",
              "    0% {\n",
              "      border-color: transparent;\n",
              "      border-bottom-color: var(--fill-color);\n",
              "      border-left-color: var(--fill-color);\n",
              "    }\n",
              "    20% {\n",
              "      border-color: transparent;\n",
              "      border-left-color: var(--fill-color);\n",
              "      border-top-color: var(--fill-color);\n",
              "    }\n",
              "    30% {\n",
              "      border-color: transparent;\n",
              "      border-left-color: var(--fill-color);\n",
              "      border-top-color: var(--fill-color);\n",
              "      border-right-color: var(--fill-color);\n",
              "    }\n",
              "    40% {\n",
              "      border-color: transparent;\n",
              "      border-right-color: var(--fill-color);\n",
              "      border-top-color: var(--fill-color);\n",
              "    }\n",
              "    60% {\n",
              "      border-color: transparent;\n",
              "      border-right-color: var(--fill-color);\n",
              "    }\n",
              "    80% {\n",
              "      border-color: transparent;\n",
              "      border-right-color: var(--fill-color);\n",
              "      border-bottom-color: var(--fill-color);\n",
              "    }\n",
              "    90% {\n",
              "      border-color: transparent;\n",
              "      border-bottom-color: var(--fill-color);\n",
              "    }\n",
              "  }\n",
              "</style>\n",
              "\n",
              "  <script>\n",
              "    async function quickchart(key) {\n",
              "      const quickchartButtonEl =\n",
              "        document.querySelector('#' + key + ' button');\n",
              "      quickchartButtonEl.disabled = true;  // To prevent multiple clicks.\n",
              "      quickchartButtonEl.classList.add('colab-df-spinner');\n",
              "      try {\n",
              "        const charts = await google.colab.kernel.invokeFunction(\n",
              "            'suggestCharts', [key], {});\n",
              "      } catch (error) {\n",
              "        console.error('Error during call to suggestCharts:', error);\n",
              "      }\n",
              "      quickchartButtonEl.classList.remove('colab-df-spinner');\n",
              "      quickchartButtonEl.classList.add('colab-df-quickchart-complete');\n",
              "    }\n",
              "    (() => {\n",
              "      let quickchartButtonEl =\n",
              "        document.querySelector('#df-955fddc8-62b3-4fc6-a473-8a5333149cbb button');\n",
              "      quickchartButtonEl.style.display =\n",
              "        google.colab.kernel.accessAllowed ? 'block' : 'none';\n",
              "    })();\n",
              "  </script>\n",
              "</div>\n",
              "    </div>\n",
              "  </div>\n"
            ],
            "text/plain": [
              "   Diabetes_binary  HighBP  HighChol  CholCheck   BMI  Smoker  Stroke  \\\n",
              "0              0.0       0       1.0          1  15.0     1.0     0.0   \n",
              "1              1.0       1       0.0          1  28.0     0.0     0.0   \n",
              "2              1.0       1       1.0          1  33.0     0.0     0.0   \n",
              "3              1.0       0       1.0          1  29.0     0.0     1.0   \n",
              "4              0.0       0       0.0          1  24.0     1.0     0.0   \n",
              "\n",
              "   HeartDiseaseorAttack  PhysActivity  Fruits  ...  AnyHealthcare  \\\n",
              "0                   0.0             0       1  ...              1   \n",
              "1                   1.0             0       1  ...              1   \n",
              "2                   0.0             1       1  ...              1   \n",
              "3                   1.0             1       1  ...              1   \n",
              "4                   0.0             0       0  ...              1   \n",
              "\n",
              "   NoDocbcCost  GenHlth  MentHlth  PhysHlth  DiffWalk  Sex  Age  Education  \\\n",
              "0          0.0      5.0      10.0      20.0       0.0    0   11        4.0   \n",
              "1          0.0      2.0       0.0       0.0       0.0    0   11        4.0   \n",
              "2          0.0      2.0      10.0       0.0       0.0    0    9        4.0   \n",
              "3          0.0      5.0       0.0      30.0       1.0    1   12        3.0   \n",
              "4          0.0      3.0       0.0       0.0       1.0    1   13        5.0   \n",
              "\n",
              "   Income  \n",
              "0     5.0  \n",
              "1     3.0  \n",
              "2     7.0  \n",
              "3     4.0  \n",
              "4     6.0  \n",
              "\n",
              "[5 rows x 22 columns]"
            ]
          },
          "execution_count": 9,
          "metadata": {},
          "output_type": "execute_result"
        }
      ],
      "source": [
        "# df = pd.read_csv(f\"{extracted_folder_path}/diabetes_012_health_indicators_BRFSS2021.csv\")\n",
        "df = pd.read_csv(f\"{extracted_folder_path}/diabetes_binary_health_indicators_BRFSS2021.csv\")\n",
        "df.head()"
      ]
    },
    {
      "cell_type": "code",
      "execution_count": null,
      "metadata": {
        "colab": {
          "base_uri": "https://localhost:8080/"
        },
        "id": "gJn5pts_nt3Y",
        "outputId": "34907376-1022-4b73-c40b-06c9a8436f04"
      },
      "outputs": [
        {
          "name": "stdout",
          "output_type": "stream",
          "text": [
            "\n",
            "Jumlah baris duplikat: 13135\n"
          ]
        }
      ],
      "source": [
        "# Mengidentifikasi duplikasi (True untuk baris duplikat)\n",
        "duplicated_rows = df.duplicated()\n",
        "\n",
        "# Menghitung jumlah duplikasi\n",
        "num_duplicates = duplicated_rows.sum()\n",
        "print(f\"\\nJumlah baris duplikat: {num_duplicates}\")"
      ]
    },
    {
      "cell_type": "code",
      "execution_count": null,
      "metadata": {
        "id": "EZzxCwnvnt06"
      },
      "outputs": [],
      "source": [
        "# Hapus duplikasi data\n",
        "df.drop_duplicates(inplace=True)\n",
        "\n",
        "# Memastikan dalam format int\n",
        "df['Diabetes_binary'] = df['Diabetes_binary'].astype(int)\n",
        "df['Age']=df['Age'].astype(int)\n",
        "\n",
        "# lets try this\n",
        "df.drop(['Education'], axis = 1, inplace = True)"
      ]
    },
    {
      "cell_type": "code",
      "execution_count": null,
      "metadata": {
        "colab": {
          "base_uri": "https://localhost:8080/",
          "height": 564
        },
        "id": "ijdSfUarpN8W",
        "outputId": "4d418520-60c4-4c96-91c5-309b6bd60b84"
      },
      "outputs": [
        {
          "data": {
            "image/png": "[encoded data removed]",
            "text/plain": [
              "<Figure size 1000x600 with 1 Axes>"
            ]
          },
          "metadata": {},
          "output_type": "display_data"
        }
      ],
      "source": [
        "# Custom palette for the bars\n",
        "palette = ['#1f77b4', '#ff7f0e', '#2ca02c']\n",
        "\n",
        "# Plotting the count plot using Seaborn\n",
        "plt.figure(figsize=(10, 6))\n",
        "sns.countplot(x='Diabetes_binary', data=df, palette=palette)\n",
        "plt.title('Distribution of Diabetes_binary')\n",
        "plt.xlabel('Diabetes_binary')\n",
        "plt.ylabel('Frequency')\n",
        "plt.show()"
      ]
    },
    {
      "cell_type": "code",
      "execution_count": null,
      "metadata": {
        "colab": {
          "base_uri": "https://localhost:8080/"
        },
        "id": "uYPbkQz8pWb1",
        "outputId": "4f23e85c-e480-457a-9d86-250546623d5c"
      },
      "outputs": [
        {
          "name": "stdout",
          "output_type": "stream",
          "text": [
            "<class 'pandas.core.frame.DataFrame'>\n",
            "Index: 223243 entries, 0 to 236377\n",
            "Data columns (total 21 columns):\n",
            " #   Column                Non-Null Count   Dtype  \n",
            "---  ------                --------------   -----  \n",
            " 0   Diabetes_binary       223243 non-null  int64  \n",
            " 1   HighBP                223243 non-null  int64  \n",
            " 2   HighChol              223243 non-null  float64\n",
            " 3   CholCheck             223243 non-null  int64  \n",
            " 4   BMI                   223243 non-null  float64\n",
            " 5   Smoker                223243 non-null  float64\n",
            " 6   Stroke                223243 non-null  float64\n",
            " 7   HeartDiseaseorAttack  223243 non-null  float64\n",
            " 8   PhysActivity          223243 non-null  int64  \n",
            " 9   Fruits                223243 non-null  int64  \n",
            " 10  Veggies               223243 non-null  int64  \n",
            " 11  HvyAlcoholConsump     223243 non-null  int64  \n",
            " 12  AnyHealthcare         223243 non-null  int64  \n",
            " 13  NoDocbcCost           223243 non-null  float64\n",
            " 14  GenHlth               223243 non-null  float64\n",
            " 15  MentHlth              223243 non-null  float64\n",
            " 16  PhysHlth              223243 non-null  float64\n",
            " 17  DiffWalk              223243 non-null  float64\n",
            " 18  Sex                   223243 non-null  int64  \n",
            " 19  Age                   223243 non-null  int64  \n",
            " 20  Income                223243 non-null  float64\n",
            "dtypes: float64(11), int64(10)\n",
            "memory usage: 37.5 MB\n"
          ]
        }
      ],
      "source": [
        "# Tipe data masih dalam bentuk float, dikonveris ke int\n",
        "df.info()"
      ]
    },
    {
      "cell_type": "code",
      "execution_count": null,
      "metadata": {
        "colab": {
          "base_uri": "https://localhost:8080/"
        },
        "id": "sjC5GIPzpN5p",
        "outputId": "f6037b79-5ab5-4856-f266-2d7b1c63d6ae"
      },
      "outputs": [
        {
          "name": "stdout",
          "output_type": "stream",
          "text": [
            "<class 'pandas.core.frame.DataFrame'>\n",
            "Index: 223243 entries, 0 to 236377\n",
            "Data columns (total 21 columns):\n",
            " #   Column                Non-Null Count   Dtype\n",
            "---  ------                --------------   -----\n",
            " 0   Diabetes_binary       223243 non-null  int64\n",
            " 1   HighBP                223243 non-null  int64\n",
            " 2   HighChol              223243 non-null  int64\n",
            " 3   CholCheck             223243 non-null  int64\n",
            " 4   BMI                   223243 non-null  int64\n",
            " 5   Smoker                223243 non-null  int64\n",
            " 6   Stroke                223243 non-null  int64\n",
            " 7   HeartDiseaseorAttack  223243 non-null  int64\n",
            " 8   PhysActivity          223243 non-null  int64\n",
            " 9   Fruits                223243 non-null  int64\n",
            " 10  Veggies               223243 non-null  int64\n",
            " 11  HvyAlcoholConsump     223243 non-null  int64\n",
            " 12  AnyHealthcare         223243 non-null  int64\n",
            " 13  NoDocbcCost           223243 non-null  int64\n",
            " 14  GenHlth               223243 non-null  int64\n",
            " 15  MentHlth              223243 non-null  int64\n",
            " 16  PhysHlth              223243 non-null  int64\n",
            " 17  DiffWalk              223243 non-null  int64\n",
            " 18  Sex                   223243 non-null  int64\n",
            " 19  Age                   223243 non-null  int64\n",
            " 20  Income                223243 non-null  int64\n",
            "dtypes: int64(21)\n",
            "memory usage: 37.5 MB\n"
          ]
        }
      ],
      "source": [
        "df['Diabetes_binary']=df['Diabetes_binary'].astype(int)\n",
        "df['HighChol']=df['HighChol'].astype(int)\n",
        "df['BMI']=df['BMI'].astype(int)\n",
        "df['Smoker']=df['Smoker'].astype(int)\n",
        "df['Stroke']=df['Stroke'].astype(int)\n",
        "df['HeartDiseaseorAttack']=df['HeartDiseaseorAttack'].astype(int)\n",
        "df['NoDocbcCost']=df['NoDocbcCost'].astype(int)\n",
        "df['GenHlth']=df['GenHlth'].astype(int)\n",
        "df['MentHlth']=df['MentHlth'].astype(int)\n",
        "df['PhysHlth']=df['PhysHlth'].astype(int)\n",
        "df['DiffWalk']=df['DiffWalk'].astype(int)\n",
        "df['Income']=df['Income'].astype(int)\n",
        "\n",
        "df.info()"
      ]
    },
    {
      "cell_type": "code",
      "execution_count": null,
      "metadata": {
        "colab": {
          "base_uri": "https://localhost:8080/"
        },
        "id": "_nbWuuILpN3B",
        "outputId": "5175416f-81cd-4561-c85e-95bc8f536985"
      },
      "outputs": [
        {
          "data": {
            "text/plain": [
              "Diabetes_binary         0\n",
              "HighBP                  0\n",
              "HighChol                0\n",
              "CholCheck               0\n",
              "BMI                     0\n",
              "Smoker                  0\n",
              "Stroke                  0\n",
              "HeartDiseaseorAttack    0\n",
              "PhysActivity            0\n",
              "Fruits                  0\n",
              "Veggies                 0\n",
              "HvyAlcoholConsump       0\n",
              "AnyHealthcare           0\n",
              "NoDocbcCost             0\n",
              "GenHlth                 0\n",
              "MentHlth                0\n",
              "PhysHlth                0\n",
              "DiffWalk                0\n",
              "Sex                     0\n",
              "Age                     0\n",
              "Income                  0\n",
              "dtype: int64"
            ]
          },
          "execution_count": 15,
          "metadata": {},
          "output_type": "execute_result"
        }
      ],
      "source": [
        "# mengecek null value\n",
        "df.isna().sum()"
      ]
    },
    {
      "cell_type": "code",
      "execution_count": null,
      "metadata": {
        "colab": {
          "base_uri": "https://localhost:8080/"
        },
        "id": "UyLYn2kKplbs",
        "outputId": "1b8d5fe4-138e-4c45-88ff-b8b9e45fe054"
      },
      "outputs": [
        {
          "data": {
            "text/plain": [
              "((178594, 20), (44649, 20), (178594,), (44649,))"
            ]
          },
          "execution_count": 16,
          "metadata": {},
          "output_type": "execute_result"
        }
      ],
      "source": [
        "# Splitting dataset\n",
        "X = df.drop(columns=[\"Diabetes_binary\"])\n",
        "y = df[\"Diabetes_binary\"]\n",
        "\n",
        "# Split data into training dan testing\n",
        "X_train, X_test, y_train, y_test = train_test_split(X, y, test_size=0.2, random_state=SEED, stratify=y)\n",
        "X_train.shape, X_test.shape, y_train.shape, y_test.shape"
      ]
    },
    {
      "cell_type": "markdown",
      "metadata": {
        "id": "6jUdfMy-p0op"
      },
      "source": [
        "# Preprocessing Data"
      ]
    },
    {
      "cell_type": "code",
      "execution_count": null,
      "metadata": {
        "id": "cqwJIbFKqk-Q"
      },
      "outputs": [],
      "source": [
        "from sklearn.preprocessing import MinMaxScaler\n",
        "from sklearn.preprocessing import LabelBinarizer\n",
        "from sklearn.metrics import f1_score, auc, roc_curve\n",
        "from itertools import cycle\n",
        "from sklearn.metrics import RocCurveDisplay"
      ]
    },
    {
      "cell_type": "code",
      "execution_count": null,
      "metadata": {
        "colab": {
          "base_uri": "https://localhost:8080/",
          "height": 295
        },
        "id": "lo_jhQLApqCp",
        "outputId": "7332619f-f2d4-45ed-f764-100a8418c42f"
      },
      "outputs": [
        {
          "data": {
            "image/png": "[encoded data removed]",
            "text/plain": [
              "<Figure size 2000x1000 with 1 Axes>"
            ]
          },
          "metadata": {},
          "output_type": "display_data"
        }
      ],
      "source": [
        "# Mengecek data outlier\n",
        "def remove_outliers_iqr(X, y, column):\n",
        "  Q1 = X[column].quantile(0.25)\n",
        "  Q3 = X[column].quantile(0.75)\n",
        "  IQR = Q3 - Q1\n",
        "  lower_bound = Q1 - 1.5 * IQR\n",
        "  upper_bound = Q3 + 1.5 * IQR\n",
        "  mask = (X[column] >= lower_bound) & (X[column] <= upper_bound)\n",
        "  return X[mask], y[mask]\n",
        "\n",
        "columns = [\"BMI\"]\n",
        "# Set the size of the plots\n",
        "plt.figure(figsize=(20, 10))\n",
        "\n",
        "# Create box plots for each column\n",
        "for i, column in enumerate(columns):\n",
        "    plt.subplot(4, 5, i + 1)\n",
        "    sns.boxplot(x=X_train[column])\n",
        "    plt.title(column)\n",
        "\n",
        "# Adjust layout\n",
        "plt.tight_layout()\n",
        "\n",
        "# Show plots\n",
        "plt.show()"
      ]
    },
    {
      "cell_type": "code",
      "execution_count": null,
      "metadata": {
        "colab": {
          "base_uri": "https://localhost:8080/",
          "height": 312
        },
        "id": "1N9Z-RfzqVXq",
        "outputId": "27a18e21-9077-42e2-fdd7-3bf4fb387bab"
      },
      "outputs": [
        {
          "name": "stdout",
          "output_type": "stream",
          "text": [
            "Number of rows after removing outliers: 171162\n"
          ]
        },
        {
          "data": {
            "image/png": "[encoded data removed]",
            "text/plain": [
              "<Figure size 2000x1000 with 1 Axes>"
            ]
          },
          "metadata": {},
          "output_type": "display_data"
        }
      ],
      "source": [
        "# Iterate through each column and remove outliers\n",
        "for column in columns:\n",
        "  X_train, y_train = remove_outliers_iqr(X_train, y_train, column)\n",
        "\n",
        "# Print the number of remaining rows\n",
        "print(f\"Number of rows after removing outliers: {X_train.shape[0]}\")\n",
        "\n",
        "columns = [\"BMI\"]\n",
        "\n",
        "# Set the size of the plots\n",
        "plt.figure(figsize=(20, 10))\n",
        "\n",
        "# Create box plots for each column\n",
        "for i, column in enumerate(columns):\n",
        "    plt.subplot(4, 5, i + 1)\n",
        "    sns.boxplot(x=X_train[column])\n",
        "    plt.title(column)\n",
        "\n",
        "# Adjust layout\n",
        "plt.tight_layout()\n",
        "\n",
        "# Show plots\n",
        "plt.show()"
      ]
    },
    {
      "cell_type": "code",
      "execution_count": null,
      "metadata": {
        "id": "5SpzzSkQqVVH"
      },
      "outputs": [],
      "source": [
        "# Scaling hanya pada training set\n",
        "scaler = MinMaxScaler()\n",
        "X_train = scaler.fit_transform(X_train)\n",
        "\n",
        "# Transform test set dengan parameter dari training set\n",
        "X_test = scaler.transform(X_test)"
      ]
    },
    {
      "cell_type": "code",
      "execution_count": null,
      "metadata": {
        "id": "SlNBQLA-qVSw"
      },
      "outputs": [],
      "source": [
        "def plot_auc(pipeline, X_train, y_train, X_test, y_test):\n",
        "  y_score = pipeline.predict_proba(X_test)\n",
        "  label_binarizer = LabelBinarizer().fit(y_train)\n",
        "  y_onehot_test = label_binarizer.transform(y_test)\n",
        "\n",
        "  n_classes = len(np.unique(y))\n",
        "\n",
        "  target_names = list(y_train.value_counts().keys())\n",
        "\n",
        "  # store the fpr, tpr, and roc_auc for all averaging strategies\n",
        "  fpr, tpr, roc_auc = dict(), dict(), dict()\n",
        "  # Compute micro-average ROC curve and ROC area\n",
        "  fpr[\"micro\"], tpr[\"micro\"], _ = roc_curve(y_onehot_test.ravel(), y_score.ravel())\n",
        "  roc_auc[\"micro\"] = auc(fpr[\"micro\"], tpr[\"micro\"])\n",
        "\n",
        "  for i in range(n_classes):\n",
        "      fpr[i], tpr[i], _ = roc_curve(y_onehot_test[:, i], y_score[:, i])\n",
        "      roc_auc[i] = auc(fpr[i], tpr[i])\n",
        "\n",
        "  fpr_grid = np.linspace(0.0, 1.0, 1000)\n",
        "\n",
        "  # Interpolate all ROC curves at these points\n",
        "  mean_tpr = np.zeros_like(fpr_grid)\n",
        "\n",
        "  for i in range(n_classes):\n",
        "      mean_tpr += np.interp(fpr_grid, fpr[i], tpr[i])  # linear interpolation\n",
        "\n",
        "  # Average it and compute AUC\n",
        "  mean_tpr /= n_classes\n",
        "\n",
        "  fpr[\"macro\"] = fpr_grid\n",
        "  tpr[\"macro\"] = mean_tpr\n",
        "  roc_auc[\"macro\"] = auc(fpr[\"macro\"], tpr[\"macro\"])\n",
        "\n",
        "  fig, ax = plt.subplots(figsize=(6, 6))\n",
        "\n",
        "  plt.plot(\n",
        "      fpr[\"micro\"],\n",
        "      tpr[\"micro\"],\n",
        "      label=f\"micro-average ROC curve (AUC = {roc_auc['micro']:.2f})\",\n",
        "      color=\"deeppink\",\n",
        "      linestyle=\"--\",\n",
        "      linewidth=4,\n",
        "  )\n",
        "\n",
        "  plt.plot(\n",
        "      fpr[\"macro\"],\n",
        "      tpr[\"macro\"],\n",
        "      label=f\"macro-average ROC curve (AUC = {roc_auc['macro']:.2f})\",\n",
        "      color=\"navy\",\n",
        "      linestyle=\"--\",\n",
        "      linewidth=4,\n",
        "  )\n",
        "\n",
        "  colors = cycle([\"aqua\", \"darkorange\", \"cornflowerblue\"])\n",
        "  for class_id, color in zip(range(n_classes), colors):\n",
        "      RocCurveDisplay.from_predictions(\n",
        "          y_onehot_test[:, class_id],\n",
        "          y_score[:, class_id],\n",
        "          name=f\"ROC curve for {target_names[class_id]}\",\n",
        "          color=color,\n",
        "          ax=ax,\n",
        "      )\n",
        "\n",
        "  _ = ax.set(\n",
        "      xlabel=\"False Positive Rate\",\n",
        "      ylabel=\"True Positive Rate\",\n",
        "      title=\"Extension of Receiver Operating Characteristic\\nto One-vs-Rest multiclass\",\n",
        "  )"
      ]
    },
    {
      "cell_type": "markdown",
      "metadata": {
        "id": "PTrJLyytrPoE"
      },
      "source": [
        "# Modeling"
      ]
    },
    {
      "cell_type": "code",
      "execution_count": null,
      "metadata": {
        "id": "miRqb2KiretK"
      },
      "outputs": [],
      "source": [
        "from sklearn.ensemble import RandomForestClassifier\n",
        "from sklearn.metrics import accuracy_score, precision_score, recall_score, roc_auc_score\n",
        "from imblearn.over_sampling import RandomOverSampler, SMOTE, ADASYN\n",
        "from imblearn.under_sampling import RandomUnderSampler, EditedNearestNeighbours\n",
        "from imblearn.combine import SMOTEENN\n",
        "from sklearn.dummy import DummyClassifier\n",
        "from tqdm import tqdm"
      ]
    },
    {
      "cell_type": "code",
      "execution_count": null,
      "metadata": {
        "colab": {
          "base_uri": "https://localhost:8080/"
        },
        "id": "n0sL0Dt1qVOc",
        "outputId": "4ad70221-53f2-4b6e-f629-71e8158dd79f"
      },
      "outputs": [
        {
          "name": "stderr",
          "output_type": "stream",
          "text": [
            "Evaluating Sampling Methods: 100%|██████████| 7/7 [04:32<00:00, 38.98s/it]\n"
          ]
        }
      ],
      "source": [
        "X_train_scaled = X_train.copy()\n",
        "X_test_scaled = X_test.copy()\n",
        "\n",
        "# Random Over-sampling\n",
        "over_sampler = RandomOverSampler(random_state=SEED)\n",
        "X_over, y_over = over_sampler.fit_resample(X_train_scaled, y_train)\n",
        "\n",
        "# Random Under-sampling\n",
        "under_sampler = RandomUnderSampler(random_state=SEED)\n",
        "X_under, y_under = under_sampler.fit_resample(X_train_scaled, y_train)\n",
        "\n",
        "# SMOTE (Synthetic Minority Over-sampling Technique)\n",
        "smote = SMOTE(random_state=SEED, n_jobs=-1)\n",
        "X_smote, y_smote = smote.fit_resample(X_train_scaled, y_train)\n",
        "\n",
        "# SMOTE-ENN (SMOTE with Edited Nearest Neighbors)\n",
        "smote_enn = SMOTEENN(random_state=SEED, n_jobs=-1)\n",
        "X_smote_enn, y_smote_enn = smote_enn.fit_resample(X_train_scaled, y_train)\n",
        "\n",
        "# ADASYN (Adaptive Synthetic Sampling Approach for Imbalanced Learning)\n",
        "adasyn = ADASYN(random_state=SEED)\n",
        "X_adasyn, y_adasyn = adasyn.fit_resample(X_train_scaled, y_train)\n",
        "\n",
        "# ENN (Edited Nearest Neighbors)\n",
        "enn = EditedNearestNeighbours()\n",
        "X_enn, y_enn = enn.fit_resample(X_train_scaled, y_train)\n",
        "\n",
        "# Create a Random Forest classifier\n",
        "rf_classifier = RandomForestClassifier(n_estimators=100, random_state=SEED)\n",
        "\n",
        "# Create a Random Classifier\n",
        "random_classifier = DummyClassifier(strategy='stratified', random_state=SEED)\n",
        "\n",
        "# Create an empty DataFrame to store the evaluation metrics\n",
        "metrics_df = pd.DataFrame(columns=['Sampling Method', 'Accuracy', 'Precision', 'Recall', 'F1-score', 'AUC'])\n",
        "\n",
        "# Train and evaluate the model on different sampling methods\n",
        "sampling_methods = [\n",
        "    ('No Sampling', X_train_scaled, y_train),\n",
        "    ('Over-sampling', X_over, y_over),\n",
        "    ('Under-sampling', X_under, y_under),\n",
        "    ('SMOTE', X_smote, y_smote),\n",
        "    ('SMOTE-ENN', X_smote_enn, y_smote_enn),\n",
        "    ('ADASYN', X_adasyn, y_adasyn),\n",
        "    ('ENN', X_enn, y_enn)\n",
        "]\n",
        "\n",
        "for method_name, X_resampled, y_resampled in tqdm(sampling_methods, desc='Evaluating Sampling Methods'):\n",
        "    if method_name == 'No Sampling':\n",
        "        classifier = random_classifier\n",
        "    else:\n",
        "        classifier = rf_classifier\n",
        "\n",
        "    classifier.fit(X_resampled, y_resampled)\n",
        "    y_pred = classifier.predict(X_test_scaled)\n",
        "    y_score = classifier.predict_proba(X_test_scaled)  # Probability scores for each class\n",
        "    accuracy = accuracy_score(y_test, y_pred)\n",
        "    precision = precision_score(y_test, y_pred, average='macro')\n",
        "    recall = recall_score(y_test, y_pred, average='macro')\n",
        "    f1 = f1_score(y_test, y_pred, average='macro')\n",
        "    auc = roc_auc_score(y_test, y_score, multi_class='ovr')  # Calculate AUC score\n",
        "\n",
        "\n",
        "    # Append the evaluation metrics to the DataFrame\n",
        "    metrics_df.loc[len(metrics_df)] = [method_name, accuracy, precision, recall, f1, auc]"
      ]
    },
    {
      "cell_type": "code",
      "execution_count": null,
      "metadata": {
        "colab": {
          "base_uri": "https://localhost:8080/"
        },
        "id": "e656-xL0rwNO",
        "outputId": "a12ffdb2-724e-4ed5-d01e-ee5e98ced3ea"
      },
      "outputs": [
        {
          "name": "stderr",
          "output_type": "stream",
          "text": [
            "Evaluating Sampling Methods: 100%|██████████| 1/1 [00:50<00:00, 50.13s/it]\n"
          ]
        }
      ],
      "source": [
        "# from sklearn.metrics import accuracy_score, precision_score, recall_score, f1_score, roc_auc_score, confusion_matrix\n",
        "# from imblearn.over_sampling import RandomOverSampler, SMOTE, ADASYN\n",
        "# from imblearn.under_sampling import RandomUnderSampler\n",
        "# from imblearn.combine import SMOTEENN\n",
        "# from imblearn.under_sampling import EditedNearestNeighbours\n",
        "# from sklearn.ensemble import RandomForestClassifier\n",
        "# from sklearn.dummy import DummyClassifier\n",
        "# from tqdm import tqdm\n",
        "# import pandas as pd\n",
        "\n",
        "# # Assuming SEED, X_train, y_train, X_test, y_test are already defined\n",
        "\n",
        "# # Scaling the data (if not done earlier)\n",
        "# X_train_scaled = X_train.copy()\n",
        "# X_test_scaled = X_test.copy()\n",
        "\n",
        "# # SMOTE-ENN (SMOTE with Edited Nearest Neighbors)\n",
        "# smote_enn = SMOTEENN(random_state=SEED, n_jobs=-1)\n",
        "# X_smote_enn, y_smote_enn = smote_enn.fit_resample(X_train_scaled, y_train)\n",
        "\n",
        "# # Create a Random Forest classifier\n",
        "# rf_classifier = RandomForestClassifier(n_estimators=100, random_state=SEED)\n",
        "\n",
        "# # Create a Random Classifier\n",
        "# random_classifier = DummyClassifier(strategy='stratified', random_state=SEED)\n",
        "\n",
        "# Create an empty DataFrame to store the evaluation metrics\n",
        "metrics_df = pd.DataFrame(columns=['Sampling Method', 'Accuracy', 'Precision', 'Recall', 'F1-score', 'Sensitivity', 'Specificity', 'AUC'])\n",
        "\n",
        "# Train and evaluate the model on different sampling methods\n",
        "sampling_methods = [\n",
        "    ('SMOTE-ENN', X_smote_enn, y_smote_enn),\n",
        "]\n",
        "\n",
        "for method_name, X_resampled, y_resampled in tqdm(sampling_methods, desc='Evaluating Sampling Methods'):\n",
        "    if method_name == 'No Sampling':\n",
        "        classifier = random_classifier\n",
        "    else:\n",
        "        classifier = rf_classifier\n",
        "\n",
        "    classifier.fit(X_resampled, y_resampled)\n",
        "    y_pred = classifier.predict(X_test_scaled)\n",
        "    y_score = classifier.predict_proba(X_test_scaled)  # Probability scores for each class\n",
        "\n",
        "    accuracy = accuracy_score(y_test, y_pred)\n",
        "    precision = precision_score(y_test, y_pred, average='macro')\n",
        "    recall = recall_score(y_test, y_pred, average='macro')\n",
        "    f1 = f1_score(y_test, y_pred, average='macro')\n",
        "\n",
        "    # Calculate AUC score, ensuring y_score is the probability of the positive class\n",
        "    if len(set(y_train)) == 2:  # Binary classification\n",
        "        auc = roc_auc_score(y_test, y_score[:, 1])  # Only use the positive class scores\n",
        "    else:  # Multi-class classification\n",
        "        auc = roc_auc_score(y_test, y_score, multi_class='ovr')  # Use 'ovr' for multi-class\n",
        "\n",
        "    # Calculate confusion matrix to get sensitivity and specificity\n",
        "    tn, fp, fn, tp = confusion_matrix(y_test, y_pred).ravel()\n",
        "    sensitivity = tp / (tp + fn)  # Sensitivity (Recall for the positive class)\n",
        "    specificity = tn / (tn + fp)  # Specificity\n",
        "\n",
        "    # Append the evaluation metrics to the DataFrame\n",
        "    metrics_df.loc[len(metrics_df)] = [method_name, accuracy, precision, recall, f1, sensitivity, specificity, auc]"
      ]
    },
    {
      "cell_type": "code",
      "execution_count": null,
      "metadata": {
        "colab": {
          "base_uri": "https://localhost:8080/"
        },
        "id": "OMP5bjRUsA6V",
        "outputId": "c75cbb3e-e17d-495d-a1e2-113d945d2b9d"
      },
      "outputs": [
        {
          "name": "stdout",
          "output_type": "stream",
          "text": [
            "  Sampling Method  Accuracy  Precision    Recall  F1-score  Sensitivity  \\\n",
            "0       SMOTE-ENN  0.765549   0.634385  0.709895  0.648584     0.630484   \n",
            "\n",
            "   Specificity       AUC  \n",
            "0     0.789307  0.790922  \n"
          ]
        }
      ],
      "source": [
        "# Print the evaluation metrics DataFrame\n",
        "print(metrics_df)"
      ]
    },
    {
      "cell_type": "markdown",
      "metadata": {
        "id": "1p8kGdQD_NZ0"
      },
      "source": [
        "# Evaluasi"
      ]
    },
    {
      "cell_type": "code",
      "execution_count": null,
      "metadata": {
        "id": "qy4OckpDkNE_"
      },
      "outputs": [],
      "source": [
        "from sklearn.ensemble import RandomForestClassifier\n",
        "from imblearn.combine import SMOTEENN"
      ]
    },
    {
      "cell_type": "code",
      "execution_count": null,
      "metadata": {
        "id": "i6iEu6AJkmT7"
      },
      "outputs": [],
      "source": [
        "# SMOTE-ENN (SMOTE with Edited Nearest Neighbors)\n",
        "smote_enn = SMOTEENN(random_state=SEED, n_jobs=-1)\n",
        "X_train, y_train = smote_enn.fit_resample(X_train, y_train)"
      ]
    },
    {
      "cell_type": "code",
      "execution_count": null,
      "metadata": {
        "colab": {
          "base_uri": "https://localhost:8080/",
          "height": 75
        },
        "id": "7XCoVbmy_PYZ",
        "outputId": "3ed1fbec-ada1-4c11-e2e1-2cef1092f6f3"
      },
      "outputs": [
        {
          "data": {
            "text/html": [
              "<style>#sk-container-id-1 {color: black;background-color: white;}#sk-container-id-1 pre{padding: 0;}#sk-container-id-1 div.sk-toggleable {background-color: white;}#sk-container-id-1 label.sk-toggleable__label {cursor: pointer;display: block;width: 100%;margin-bottom: 0;padding: 0.3em;box-sizing: border-box;text-align: center;}#sk-container-id-1 label.sk-toggleable__label-arrow:before {content: \"▸\";float: left;margin-right: 0.25em;color: #696969;}#sk-container-id-1 label.sk-toggleable__label-arrow:hover:before {color: black;}#sk-container-id-1 div.sk-estimator:hover label.sk-toggleable__label-arrow:before {color: black;}#sk-container-id-1 div.sk-toggleable__content {max-height: 0;max-width: 0;overflow: hidden;text-align: left;background-color: #f0f8ff;}#sk-container-id-1 div.sk-toggleable__content pre {margin: 0.2em;color: black;border-radius: 0.25em;background-color: #f0f8ff;}#sk-container-id-1 input.sk-toggleable__control:checked~div.sk-toggleable__content {max-height: 200px;max-width: 100%;overflow: auto;}#sk-container-id-1 input.sk-toggleable__control:checked~label.sk-toggleable__label-arrow:before {content: \"▾\";}#sk-container-id-1 div.sk-estimator input.sk-toggleable__control:checked~label.sk-toggleable__label {background-color: #d4ebff;}#sk-container-id-1 div.sk-label input.sk-toggleable__control:checked~label.sk-toggleable__label {background-color: #d4ebff;}#sk-container-id-1 input.sk-hidden--visually {border: 0;clip: rect(1px 1px 1px 1px);clip: rect(1px, 1px, 1px, 1px);height: 1px;margin: -1px;overflow: hidden;padding: 0;position: absolute;width: 1px;}#sk-container-id-1 div.sk-estimator {font-family: monospace;background-color: #f0f8ff;border: 1px dotted black;border-radius: 0.25em;box-sizing: border-box;margin-bottom: 0.5em;}#sk-container-id-1 div.sk-estimator:hover {background-color: #d4ebff;}#sk-container-id-1 div.sk-parallel-item::after {content: \"\";width: 100%;border-bottom: 1px solid gray;flex-grow: 1;}#sk-container-id-1 div.sk-label:hover label.sk-toggleable__label {background-color: #d4ebff;}#sk-container-id-1 div.sk-serial::before {content: \"\";position: absolute;border-left: 1px solid gray;box-sizing: border-box;top: 0;bottom: 0;left: 50%;z-index: 0;}#sk-container-id-1 div.sk-serial {display: flex;flex-direction: column;align-items: center;background-color: white;padding-right: 0.2em;padding-left: 0.2em;position: relative;}#sk-container-id-1 div.sk-item {position: relative;z-index: 1;}#sk-container-id-1 div.sk-parallel {display: flex;align-items: stretch;justify-content: center;background-color: white;position: relative;}#sk-container-id-1 div.sk-item::before, #sk-container-id-1 div.sk-parallel-item::before {content: \"\";position: absolute;border-left: 1px solid gray;box-sizing: border-box;top: 0;bottom: 0;left: 50%;z-index: -1;}#sk-container-id-1 div.sk-parallel-item {display: flex;flex-direction: column;z-index: 1;position: relative;background-color: white;}#sk-container-id-1 div.sk-parallel-item:first-child::after {align-self: flex-end;width: 50%;}#sk-container-id-1 div.sk-parallel-item:last-child::after {align-self: flex-start;width: 50%;}#sk-container-id-1 div.sk-parallel-item:only-child::after {width: 0;}#sk-container-id-1 div.sk-dashed-wrapped {border: 1px dashed gray;margin: 0 0.4em 0.5em 0.4em;box-sizing: border-box;padding-bottom: 0.4em;background-color: white;}#sk-container-id-1 div.sk-label label {font-family: monospace;font-weight: bold;display: inline-block;line-height: 1.2em;}#sk-container-id-1 div.sk-label-container {text-align: center;}#sk-container-id-1 div.sk-container {/* jupyter's `normalize.less` sets `[hidden] { display: none; }` but bootstrap.min.css set `[hidden] { display: none !important; }` so we also need the `!important` here to be able to override the default hidden behavior on the sphinx rendered scikit-learn.org. See: https://github.com/scikit-learn/scikit-learn/issues/21755 */display: inline-block !important;position: relative;}#sk-container-id-1 div.sk-text-repr-fallback {display: none;}</style><div id=\"sk-container-id-1\" class=\"sk-top-container\"><div class=\"sk-text-repr-fallback\"><pre>RandomForestClassifier()</pre><b>In a Jupyter environment, please rerun this cell to show the HTML representation or trust the notebook. <br />On GitHub, the HTML representation is unable to render, please try loading this page with nbviewer.org.</b></div><div class=\"sk-container\" hidden><div class=\"sk-item\"><div class=\"sk-estimator sk-toggleable\"><input class=\"sk-toggleable__control sk-hidden--visually\" id=\"sk-estimator-id-1\" type=\"checkbox\" checked><label for=\"sk-estimator-id-1\" class=\"sk-toggleable__label sk-toggleable__label-arrow\">RandomForestClassifier</label><div class=\"sk-toggleable__content\"><pre>RandomForestClassifier()</pre></div></div></div></div></div>"
            ],
            "text/plain": [
              "RandomForestClassifier()"
            ]
          },
          "execution_count": 23,
          "metadata": {},
          "output_type": "execute_result"
        }
      ],
      "source": [
        "# Inisiasi RF dengan default parameter\n",
        "model = RandomForestClassifier()\n",
        "\n",
        "# Fit pipeline pada seluruh training data\n",
        "model.fit(X_train, y_train)"
      ]
    },
    {
      "cell_type": "code",
      "execution_count": null,
      "metadata": {
        "colab": {
          "base_uri": "https://localhost:8080/",
          "height": 585
        },
        "id": "fJudak9e-98c",
        "outputId": "dda3fd52-fb76-4c61-d0ad-48d714354411"
      },
      "outputs": [
        {
          "data": {
            "image/png": "[encoded data removed]",
            "text/plain": [
              "<Figure size 600x600 with 1 Axes>"
            ]
          },
          "metadata": {},
          "output_type": "display_data"
        }
      ],
      "source": [
        "plot_auc(model, X_train, y_train, X_test, y_test)"
      ]
    },
    {
      "cell_type": "code",
      "execution_count": null,
      "metadata": {
        "id": "hhp8zdSdp_8o"
      },
      "outputs": [],
      "source": [
        "importances = model.feature_importances_\n",
        "std = np.std([tree.feature_importances_ for tree in model.estimators_], axis=0)\n",
        "\n",
        "cols = [name for name in X.columns]\n",
        "df_imp = pd.DataFrame({\"feature\": cols, \"importance\": importances}).sort_values(\"importance\", ascending=False)"
      ]
    },
    {
      "cell_type": "code",
      "execution_count": null,
      "metadata": {
        "colab": {
          "base_uri": "https://localhost:8080/",
          "height": 296
        },
        "id": "CahWhZpMqDhe",
        "outputId": "762b14a9-d739-4bb1-e1bb-4a7e88f6b96b"
      },
      "outputs": [
        {
          "data": {
            "image/png": "[encoded data removed]",
            "text/plain": [
              "<Figure size 1500x500 with 1 Axes>"
            ]
          },
          "metadata": {},
          "output_type": "display_data"
        }
      ],
      "source": [
        "plt.figure(figsize=(15, 5))\n",
        "plt.bar(range(len(df_imp)), df_imp.importance, color='b', yerr=std)\n",
        "plt.xticks(range(len(df_imp)), df_imp.feature, rotation=45, horizontalalignment='right')\n",
        "plt.ylabel('importance')\n",
        "plt.title(\"Mean Loss Decrease\", fontsize=14);"
      ]
    }
  ],
  "metadata": {
    "colab": {
      "provenance": []
    },
    "kernelspec": {
      "display_name": "Python 3",
      "name": "python3"
    },
    "language_info": {
      "name": "python"
    }
  },
  "nbformat": 4,
  "nbformat_minor": 0
}
